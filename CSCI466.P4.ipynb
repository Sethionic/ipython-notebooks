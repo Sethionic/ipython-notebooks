{
 "metadata": {
  "name": "CSCI466.P4"
 },
 "nbformat": 3,
 "nbformat_minor": 0,
 "worksheets": [
  {
   "cells": [
    {
     "cell_type": "markdown",
     "metadata": {},
     "source": [
      "#Jonathan Lowery"
     ]
    },
    {
     "cell_type": "markdown",
     "metadata": {},
     "source": [
      "#CSCI 466 - Project 4\n",
      "##100 Points\n",
      "\n",
      "For this assignment you will investigate hash function and hash chains. You may complete the assignment in any language. For a given hash function h, a hash chain is defined as follows:\n",
      "\n",
      "$H_0=x$\n",
      "\n",
      "$H_i=h(H_{i-1})\\ for\\ i\\ge 1$\n",
      "\n",
      "For the purpose of this assignment, our hash function is the last k bits of MD5. In other words, $h_k(x)$ = least significant k bits of MD5(x). Before completing the assignment, read Section 2.1.6 from the Handbook of Applied Crypto (available: http://www.cacr.math.uwaterloo.ca/hac/about/chap2.pdf).\n",
      "\n",
      "##Part I:\n",
      "\n",
      "(70 points) Write a computer program to compute the number of components, average/max tail length, min/average/max cycle length when we use $h_{16}(x)$. Your output should print these 6 numbers. Tail and cycle length are defined in HAC Definition 2.35. For the following figure, there are 2 components, 4 tails of lengths 3, 2, 1, and 1 for an average tail length of 1.75. The two cycles are length 4 and 3.\n",
      "\n",
      "###Solution:"
     ]
    },
    {
     "cell_type": "code",
     "collapsed": false,
     "input": [
      "\n",
      "from hashlib import md5 #Hash source\n",
      "from collections import defaultdict as dd #Dynamic Dictionary\n",
      "import networkx as nx #Graph Theory\n",
      "import time\n",
      "from multiprocessing import Pool\n",
      "\n",
      "DG=nx.DiGraph() #Main DiGraph\n",
      "CE=[] #Cycle Elements\n",
      "CL=[] #Cycle Lengths\n",
      "TL=[] #Tail Lengths\n",
      "#RevMap=dd()\n",
      "def get_hash(name,size): #Hash function\n",
      "    temp=bin(int(md5(name).hexdigest(),16)%2**size)[2:]\n",
      "    temp='0'*(size-len(temp))+temp\n",
      "    return temp\n",
      "\n",
      "def trymap(size): #Create Graph\n",
      "    for i in range(2**size):\n",
      "        name=bin(i)[2:]\n",
      "        temp=get_hash(name,size)\n",
      "        name=\"0\"*(size-len(name))+name\n",
      "        DG.add_edge(int(name,2),int(temp,2))\n",
      "\n",
      "#Return a path from start to the\n",
      "#Beginning of a cycle if 0\n",
      "#End of a cycle if 1\n",
      "def findpath(start):\n",
      "    templist=[start]\n",
      "    temp=start\n",
      "    while not(DG.successors(temp)[0] in templist):\n",
      "        if (DG.successors(temp)[0] in CE):\n",
      "            return (templist,0)\n",
      "        temp=DG.successors(temp)[0]\n",
      "        templist+=[temp]\n",
      "    return (templist,1) #templist[-1] is the start of a cycle\n",
      "\n",
      "def taillen(tailpath): \n",
      "    global CE\n",
      "    global CL\n",
      "    global TL\n",
      "    cycle=findpath(tailpath[-1])[0]\n",
      "    CE+=cycle #Add to Cycle Watchlist\n",
      "    CL+= [len(cycle)] #Add cycle length to \n",
      "    TL+= [len(tailpath)-len(cycle)]\n",
      "\n",
      "def pathrunner(start):\n",
      "    global TL\n",
      "    temp=findpath(start)\n",
      "    if temp[1]:\n",
      "        taillen(temp[0])\n",
      "    else:\n",
      "        TL+=[len(temp[0])]\n",
      "    \n",
      "complexity=16\n",
      "#pool = Pool(processes=(complexity/2))\n",
      "timer=time.time()\n",
      "trymap(complexity)\n",
      "if complexity<=8: \n",
      "    nx.draw(DG)\n",
      "    pylab.show()\n",
      "tails=[i for i in DG.pred.keys() if len(DG.pred[i])==0] #Nodes with no predeccesors\n",
      "timer1=time.time()-timer\n",
      "print \"Tail-enumeration time: {0:.2}s\".format(timer1)\n",
      "#pool.map(pathrunner,tails)\n",
      "map(pathrunner,tails)\n",
      "#print \"Cycle Elements: \",CE\n",
      "print \"Cycle Lengths: \",CL\n",
      "#print \"Tail Lengths: \",TL\n",
      "print \"Cycle Lengths: Max: {0}, Avg: {1:.3}, Min: {2}, Count: {3}\".format(max(CL),average(CL),min(CL),len(CL))\n",
      "print \"Tail Lengths: Max: {0}, Avg: {1:.3}, Min: {2}, Count: {3}\".format(max(TL),average(TL),min(TL),len(TL))\n",
      "print \"Total Components: {0}\".format(DG.number_of_selfloops()+len(CL))\n",
      "timer2=time.time()-timer1-timer\n",
      "print \"Time: {0:.6}s for {1} hashes, {2:.6} hashes per second\".format(timer2,2**complexity,(2**complexity)/timer2)\n",
      "\n",
      "#Clean memory since a lot is being stored\n",
      "del DG #Main DiGraph\n",
      "del CE #Cycle Elements\n",
      "del CL #Cycle Lengths\n",
      "del TL #Tail Lengths"
     ],
     "language": "python",
     "metadata": {},
     "outputs": [
      {
       "output_type": "stream",
       "stream": "stdout",
       "text": [
        "Tail-enumeration time: 1.4s\n",
        "Cycle Lengths: "
       ]
      },
      {
       "output_type": "stream",
       "stream": "stdout",
       "text": [
        " [160, 159, 65, 12, 3, 11, 2, 8, 4, 8]\n",
        "Cycle Lengths: Max: 160, Avg: 43.2, Min: 2, Count: 10\n",
        "Tail Lengths: Max: 593, Avg: 192.0, Min: 1, Count: 24098\n",
        "Total Segments: 10"
       ]
      },
      {
       "output_type": "stream",
       "stream": "stdout",
       "text": [
        "\n",
        "Time: 176.619s for 65536 hashes, 371.059 hashes per second\n"
       ]
      }
     ],
     "prompt_number": 78
    },
    {
     "cell_type": "markdown",
     "metadata": {},
     "source": [
      "The variable above labeled 'complexity' determines k in $h_k(x)$\n",
      "\n",
      "##Part II:\n",
      "\n",
      "2. (30 points) Under the assumption that MD5 is a random function, design a new hash chain that does not have a cycle. Why does your algorithm not have a cycle?\n",
      "\n",
      "###Solution: \n",
      "\n",
      "For the purposes of chaining, keep track of an iteration variable i and add i to the input of each number before calculating the next value.\n",
      "\n",
      "$H_i=h(H_{i-1}+i)\\ for\\ i\\ge 1$"
     ]
    },
    {
     "cell_type": "code",
     "collapsed": false,
     "input": [],
     "language": "python",
     "metadata": {},
     "outputs": []
    }
   ],
   "metadata": {}
  }
 ]
}